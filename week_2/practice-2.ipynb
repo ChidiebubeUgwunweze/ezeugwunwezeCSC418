{
 "cells": [
  {
   "cell_type": "markdown",
   "id": "96772844",
   "metadata": {},
   "source": [
    "## A program to illustrate arithmetic operation of addition"
   ]
  },
  {
   "cell_type": "code",
   "execution_count": 4,
   "id": "e47883a4",
   "metadata": {},
   "outputs": [],
   "source": [
    "#organizing imports\n",
    "import cv2"
   ]
  },
  {
   "cell_type": "code",
   "execution_count": 5,
   "id": "33857fbf",
   "metadata": {},
   "outputs": [],
   "source": [
    "# path to input images\n",
    "image1 = cv2.imread('img/sst.jpg')\n",
    "image2 = cv2.imread('img/sst-foyer.jpg')"
   ]
  },
  {
   "cell_type": "code",
   "execution_count": 6,
   "id": "bd939a8a",
   "metadata": {},
   "outputs": [],
   "source": [
    "#resize images\n",
    "image1 = cv2.resize(image1, (500,400))\n",
    "image2 = cv2.resize(image2, (500, 400))"
   ]
  },
  {
   "cell_type": "code",
   "execution_count": 7,
   "id": "13b1b87c",
   "metadata": {},
   "outputs": [],
   "source": [
    "# cv2.addWeighted with applied parameters\n",
    "addImage = cv2.addWeighted(image1, 0.5, image2, 0.6, 0)"
   ]
  },
  {
   "cell_type": "code",
   "execution_count": 8,
   "id": "3bdc4d0f",
   "metadata": {},
   "outputs": [],
   "source": [
    "#sub = cv2.subtract(image1, image2)"
   ]
  },
  {
   "cell_type": "code",
   "execution_count": 9,
   "id": "4e9ead41",
   "metadata": {},
   "outputs": [],
   "source": [
    "# window showing output image\n",
    "cv2.imshow('Weighted Image', addImage)"
   ]
  },
  {
   "cell_type": "code",
   "execution_count": null,
   "id": "ec06617f",
   "metadata": {},
   "outputs": [],
   "source": [
    "#De-allocate any associated memory usage\n",
    "if cv2.waitKey(0) & 0xff == 27:\n",
    "    cv2.destroyAllWindows()"
   ]
  },
  {
   "cell_type": "code",
   "execution_count": null,
   "id": "cb9e1512",
   "metadata": {},
   "outputs": [],
   "source": []
  }
 ],
 "metadata": {
  "kernelspec": {
   "display_name": "Python 3 (ipykernel)",
   "language": "python",
   "name": "python3"
  },
  "language_info": {
   "codemirror_mode": {
    "name": "ipython",
    "version": 3
   },
   "file_extension": ".py",
   "mimetype": "text/x-python",
   "name": "python",
   "nbconvert_exporter": "python",
   "pygments_lexer": "ipython3",
   "version": "3.11.3"
  }
 },
 "nbformat": 4,
 "nbformat_minor": 5
}
