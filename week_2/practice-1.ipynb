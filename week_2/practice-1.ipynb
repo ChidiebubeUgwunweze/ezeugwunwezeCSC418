{
 "cells": [
  {
   "cell_type": "code",
   "execution_count": 1,
   "id": "cde3de0a",
   "metadata": {},
   "outputs": [],
   "source": [
    "import cv2"
   ]
  },
  {
   "cell_type": "code",
   "execution_count": 2,
   "id": "5f526156",
   "metadata": {},
   "outputs": [],
   "source": [
    "image = cv2.imread('img/color-space.jpg')"
   ]
  },
  {
   "cell_type": "code",
   "execution_count": 3,
   "id": "7d7fb7d7",
   "metadata": {},
   "outputs": [],
   "source": [
    "# The split method seprates color spaces\n",
    "B, G, R = cv2.split(image)"
   ]
  },
  {
   "cell_type": "code",
   "execution_count": null,
   "id": "8a8a5207",
   "metadata": {},
   "outputs": [],
   "source": [
    "# Corresponding channels are separated\n",
    "cv2.imshow(\"original\", image)\n",
    "cv2. waitKey(0)"
   ]
  },
  {
   "cell_type": "code",
   "execution_count": 5,
   "id": "8e8bbb94",
   "metadata": {},
   "outputs": [
    {
     "data": {
      "text/plain": [
       "-1"
      ]
     },
     "execution_count": 5,
     "metadata": {},
     "output_type": "execute_result"
    }
   ],
   "source": [
    "cv2.imshow(\"blue\", B)\n",
    "cv2.waitKey(0)"
   ]
  },
  {
   "cell_type": "code",
   "execution_count": null,
   "id": "7af5b6fc",
   "metadata": {},
   "outputs": [],
   "source": [
    "cv2.imshow(\"green\", G)\n",
    "cv2.waitKey(0)"
   ]
  },
  {
   "cell_type": "code",
   "execution_count": 6,
   "id": "7f0cb505",
   "metadata": {},
   "outputs": [
    {
     "data": {
      "text/plain": [
       "-1"
      ]
     },
     "execution_count": 6,
     "metadata": {},
     "output_type": "execute_result"
    }
   ],
   "source": [
    "cv2.imshow(\"red\", R)\n",
    "cv2.waitKey(0)"
   ]
  },
  {
   "cell_type": "code",
   "execution_count": null,
   "id": "b3b5a4a3",
   "metadata": {},
   "outputs": [],
   "source": [
    "cv2.destroyAllwindows()"
   ]
  },
  {
   "cell_type": "code",
   "execution_count": null,
   "id": "35221077",
   "metadata": {},
   "outputs": [],
   "source": []
  }
 ],
 "metadata": {
  "kernelspec": {
   "display_name": "Python 3 (ipykernel)",
   "language": "python",
   "name": "python3"
  },
  "language_info": {
   "codemirror_mode": {
    "name": "ipython",
    "version": 3
   },
   "file_extension": ".py",
   "mimetype": "text/x-python",
   "name": "python",
   "nbconvert_exporter": "python",
   "pygments_lexer": "ipython3",
   "version": "3.11.3"
  }
 },
 "nbformat": 4,
 "nbformat_minor": 5
}
