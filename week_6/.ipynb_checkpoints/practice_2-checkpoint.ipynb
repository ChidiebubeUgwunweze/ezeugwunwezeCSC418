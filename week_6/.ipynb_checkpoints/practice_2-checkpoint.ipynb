{
 "cells": [
  {
   "cell_type": "code",
   "execution_count": 11,
   "id": "fceed829",
   "metadata": {},
   "outputs": [
    {
     "ename": "error",
     "evalue": "OpenCV(4.8.0) D:\\a\\opencv-python\\opencv-python\\opencv\\modules\\objdetect\\src\\cascadedetect.cpp:1689: error: (-215:Assertion failed) !empty() in function 'cv::CascadeClassifier::detectMultiScale'\n",
     "output_type": "error",
     "traceback": [
      "\u001b[1;31m---------------------------------------------------------------------------\u001b[0m",
      "\u001b[1;31merror\u001b[0m                                     Traceback (most recent call last)",
      "Cell \u001b[1;32mIn[11], line 17\u001b[0m\n\u001b[0;32m     14\u001b[0m \u001b[38;5;66;03m# Perform face detection\u001b[39;00m\n\u001b[0;32m     15\u001b[0m face_data \u001b[38;5;241m=\u001b[39m cv2\u001b[38;5;241m.\u001b[39mCascadeClassifier(\u001b[38;5;124m\"\u001b[39m\u001b[38;5;124mhaarcascade_frontalface_default.xml\u001b[39m\u001b[38;5;124m\"\u001b[39m)\n\u001b[1;32m---> 17\u001b[0m found \u001b[38;5;241m=\u001b[39m face_data\u001b[38;5;241m.\u001b[39mdetectMultiScale(cv2\u001b[38;5;241m.\u001b[39mcvtColor(img, cv2\u001b[38;5;241m.\u001b[39mCOLOR_BGR2GRAY), minSize \u001b[38;5;241m=\u001b[39m(\u001b[38;5;241m20\u001b[39m, \u001b[38;5;241m20\u001b[39m))\n\u001b[0;32m     19\u001b[0m \u001b[38;5;66;03m# Don't do anything if there's no sign\u001b[39;00m\n\u001b[0;32m     20\u001b[0m amount_found \u001b[38;5;241m=\u001b[39m \u001b[38;5;28mlen\u001b[39m(found)\n",
      "\u001b[1;31merror\u001b[0m: OpenCV(4.8.0) D:\\a\\opencv-python\\opencv-python\\opencv\\modules\\objdetect\\src\\cascadedetect.cpp:1689: error: (-215:Assertion failed) !empty() in function 'cv::CascadeClassifier::detectMultiScale'\n"
     ]
    }
   ],
   "source": [
    "import cv2\n",
    "from matplotlib import pyplot as plt\n",
    "\n",
    "# Opening image\n",
    "img = cv2.imread(\"img/friends.jpg\")\n",
    "\n",
    "# OpenCV opens images as BRG\n",
    "# But we want it as RGB We'll\n",
    "# also need a grayscale version\n",
    "\n",
    "# img_gray = cv2.cvtColor(img, cv2.COLOR_BGR2GRAY)\n",
    "img_rgb = cv2.cvtColor(img, cv2.COLOR_BGR2RGB)\n",
    "\n",
    "# Perform face detection\n",
    "face_data = cv2.CascadeClassifier(\"C:\\Users\\NEW\\anaconda3\\Lib\\site-packages\\cv2\\data\")\n",
    "\n",
    "found = face_data.detectMultiScale(cv2.cvtColor(img, cv2.COLOR_BGR2GRAY), minSize =(20, 20))\n",
    "\n",
    "# Don't do anything if there's no sign\n",
    "amount_found = len(found)\n",
    "\n",
    "if amount_found != 0:\n",
    "    \n",
    "    # There may be more than one\n",
    "    # sign in the image\n",
    "    for (x, y, width, height) in found:\n",
    "        \n",
    "        # We draw a green rectangle around\n",
    "        # every recognized sign\n",
    "        cv2.rectangle(img_rgb, (x, y), (x + height, y + width), (0, 255, 0), 5)\n",
    "        \n",
    "#Creates the environment of \n",
    "#the picture and shows it\n",
    " \n",
    "plt.subplot(1, 1, 1)\n",
    "plt.imshow(img_rgb)\n",
    "plt.show()\n",
    "                                   "
   ]
  },
  {
   "cell_type": "code",
   "execution_count": null,
   "id": "2e98281b",
   "metadata": {},
   "outputs": [],
   "source": []
  }
 ],
 "metadata": {
  "kernelspec": {
   "display_name": "Python 3 (ipykernel)",
   "language": "python",
   "name": "python3"
  },
  "language_info": {
   "codemirror_mode": {
    "name": "ipython",
    "version": 3
   },
   "file_extension": ".py",
   "mimetype": "text/x-python",
   "name": "python",
   "nbconvert_exporter": "python",
   "pygments_lexer": "ipython3",
   "version": "3.11.3"
  }
 },
 "nbformat": 4,
 "nbformat_minor": 5
}
