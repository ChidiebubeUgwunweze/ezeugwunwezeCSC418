{
 "cells": [
  {
   "cell_type": "markdown",
   "id": "6c6313d7",
   "metadata": {},
   "source": [
    "# Reading an image in OpenCV"
   ]
  },
  {
   "cell_type": "code",
   "execution_count": null,
   "id": "19844089",
   "metadata": {},
   "outputs": [],
   "source": [
    "#Importing OpenCV Library\n",
    "import cv2"
   ]
  },
  {
   "cell_type": "code",
   "execution_count": 25,
   "id": "e587611c",
   "metadata": {},
   "outputs": [],
   "source": [
    "#Path\n",
    "path = \"images/tokyocity.jpg\""
   ]
  },
  {
   "cell_type": "code",
   "execution_count": 26,
   "id": "6c73d4c1",
   "metadata": {},
   "outputs": [],
   "source": [
    "#Reading the image using imread() function\n",
    "img = cv2.imread(path)"
   ]
  },
  {
   "cell_type": "code",
   "execution_count": 27,
   "id": "b441e7d3",
   "metadata": {},
   "outputs": [],
   "source": [
    "# Window name in which image is displayed\n",
    "window_name = \"Tokyo City at Night\""
   ]
  },
  {
   "cell_type": "code",
   "execution_count": 28,
   "id": "fbecaeda",
   "metadata": {},
   "outputs": [],
   "source": [
    "#Display image\n",
    "cv2.imshow(window_name, img)"
   ]
  },
  {
   "cell_type": "code",
   "execution_count": 29,
   "id": "ca0d32d2",
   "metadata": {},
   "outputs": [
    {
     "data": {
      "text/plain": [
       "-1"
      ]
     },
     "execution_count": 29,
     "metadata": {},
     "output_type": "execute_result"
    }
   ],
   "source": [
    "#Hold the window\n",
    "cv2.waitKey(5)"
   ]
  },
  {
   "cell_type": "code",
   "execution_count": 30,
   "id": "a7916b4c",
   "metadata": {},
   "outputs": [],
   "source": [
    "# Remove/delete created GUI window from screen and memory\n",
    "cv2.destroyAllWindows()"
   ]
  },
  {
   "cell_type": "code",
   "execution_count": null,
   "id": "7d8e7d2f",
   "metadata": {},
   "outputs": [],
   "source": []
  }
 ],
 "metadata": {
  "kernelspec": {
   "display_name": "Python 3 (ipykernel)",
   "language": "python",
   "name": "python3"
  },
  "language_info": {
   "codemirror_mode": {
    "name": "ipython",
    "version": 3
   },
   "file_extension": ".py",
   "mimetype": "text/x-python",
   "name": "python",
   "nbconvert_exporter": "python",
   "pygments_lexer": "ipython3",
   "version": "3.11.3"
  }
 },
 "nbformat": 4,
 "nbformat_minor": 5
}
