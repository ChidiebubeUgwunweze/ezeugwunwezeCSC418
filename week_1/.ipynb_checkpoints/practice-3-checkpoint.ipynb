{
 "cells": [
  {
   "cell_type": "markdown",
   "id": "90dd5f04",
   "metadata": {},
   "source": [
    "# Python program to explain *cv2.inwrite()* method"
   ]
  },
  {
   "cell_type": "code",
   "execution_count": 13,
   "id": "7ad70b77",
   "metadata": {},
   "outputs": [],
   "source": [
    "# importing cv2\n",
    "import cv2"
   ]
  },
  {
   "cell_type": "code",
   "execution_count": 14,
   "id": "b314bc12",
   "metadata": {},
   "outputs": [],
   "source": [
    "#importing os module\n",
    "import os"
   ]
  },
  {
   "cell_type": "code",
   "execution_count": 15,
   "id": "0aeb3b6f",
   "metadata": {},
   "outputs": [],
   "source": [
    "#Image path\n",
    "image_path = r'C:\\Users\\NEW\\Documents\\SCHOOL\\Year_4_semester_2\\CSC 418\\Practical\\week_1\\images\\thor.jpeg'"
   ]
  },
  {
   "cell_type": "code",
   "execution_count": 16,
   "id": "2df4b8b5",
   "metadata": {},
   "outputs": [],
   "source": [
    "# Image directory\n",
    "directory = r'C:\\Users\\NEW\\Documents\\SCHOOL\\Year_4_semester_2\\CSC 418\\Practical\\week_1\\images'"
   ]
  },
  {
   "cell_type": "code",
   "execution_count": 17,
   "id": "f83aa91e",
   "metadata": {},
   "outputs": [],
   "source": [
    "#Using cv2.imread() method to read the image\n",
    "img = cv2.imread(image_path, 0)"
   ]
  },
  {
   "cell_type": "code",
   "execution_count": 18,
   "id": "246d29d3",
   "metadata": {},
   "outputs": [],
   "source": [
    "#Change the current directory to specified directory\n",
    "os.chdir(directory)"
   ]
  },
  {
   "cell_type": "code",
   "execution_count": 19,
   "id": "73db4c00",
   "metadata": {},
   "outputs": [
    {
     "name": "stdout",
     "output_type": "stream",
     "text": [
      "Before saving image: \n",
      "['thor.jpg', 'tokyocity.jpg', 'VR_goggles.jpg']\n"
     ]
    }
   ],
   "source": [
    "# List files and directories\n",
    "print(\"Before saving image: \")\n",
    "print(os.listdir(directory))"
   ]
  },
  {
   "cell_type": "code",
   "execution_count": 20,
   "id": "4b1110bb",
   "metadata": {},
   "outputs": [],
   "source": [
    "# Filename\n",
    "filename = 'Thor_grayImage.jpeg'"
   ]
  },
  {
   "cell_type": "code",
   "execution_count": 21,
   "id": "42516fb6",
   "metadata": {},
   "outputs": [
    {
     "ename": "error",
     "evalue": "OpenCV(4.8.0) D:\\a\\opencv-python\\opencv-python\\opencv\\modules\\imgcodecs\\src\\loadsave.cpp:787: error: (-215:Assertion failed) !_img.empty() in function 'cv::imwrite'\n",
     "output_type": "error",
     "traceback": [
      "\u001b[1;31m---------------------------------------------------------------------------\u001b[0m",
      "\u001b[1;31merror\u001b[0m                                     Traceback (most recent call last)",
      "Cell \u001b[1;32mIn[21], line 2\u001b[0m\n\u001b[0;32m      1\u001b[0m \u001b[38;5;66;03m# Using cv2.imwrite() method save the image\u001b[39;00m\n\u001b[1;32m----> 2\u001b[0m cv2\u001b[38;5;241m.\u001b[39mimwrite(filename, img)\n",
      "\u001b[1;31merror\u001b[0m: OpenCV(4.8.0) D:\\a\\opencv-python\\opencv-python\\opencv\\modules\\imgcodecs\\src\\loadsave.cpp:787: error: (-215:Assertion failed) !_img.empty() in function 'cv::imwrite'\n"
     ]
    }
   ],
   "source": [
    "# Using cv2.imwrite() method save the image\n",
    "cv2.imwrite(filename, img)"
   ]
  },
  {
   "cell_type": "code",
   "execution_count": null,
   "id": "d40ab511",
   "metadata": {},
   "outputs": [],
   "source": []
  }
 ],
 "metadata": {
  "kernelspec": {
   "display_name": "Python 3 (ipykernel)",
   "language": "python",
   "name": "python3"
  },
  "language_info": {
   "codemirror_mode": {
    "name": "ipython",
    "version": 3
   },
   "file_extension": ".py",
   "mimetype": "text/x-python",
   "name": "python",
   "nbconvert_exporter": "python",
   "pygments_lexer": "ipython3",
   "version": "3.11.3"
  }
 },
 "nbformat": 4,
 "nbformat_minor": 5
}
