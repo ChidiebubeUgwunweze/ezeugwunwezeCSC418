{
 "cells": [
  {
   "cell_type": "markdown",
   "id": "90dd5f04",
   "metadata": {},
   "source": [
    "# Python program to explain *cv2.inwrite()* method"
   ]
  },
  {
   "cell_type": "code",
   "execution_count": 17,
   "id": "7ad70b77",
   "metadata": {},
   "outputs": [],
   "source": [
    "# importing cv2\n",
    "import cv2"
   ]
  },
  {
   "cell_type": "code",
   "execution_count": 18,
   "id": "b314bc12",
   "metadata": {},
   "outputs": [],
   "source": [
    "#importing os module\n",
    "import os"
   ]
  },
  {
   "cell_type": "code",
   "execution_count": 19,
   "id": "0aeb3b6f",
   "metadata": {},
   "outputs": [],
   "source": [
    "#Image path\n",
    "image_path = r\"C:\\Users\\NEW\\Documents\\SCHOOL\\Year_4_semester_2\\CSC 418\\Practical\\week_1\\images\\thor.jpg\""
   ]
  },
  {
   "cell_type": "code",
   "execution_count": 20,
   "id": "2df4b8b5",
   "metadata": {},
   "outputs": [],
   "source": [
    "# Image directory\n",
    "directory = r\"C:\\Users\\NEW\\Documents\\SCHOOL\\Year_4_semester_2\\CSC 418\\Practical\\week_1\\images\""
   ]
  },
  {
   "cell_type": "code",
   "execution_count": 21,
   "id": "f83aa91e",
   "metadata": {},
   "outputs": [],
   "source": [
    "#Using cv2.imread() method to read the image\n",
    "img = cv2.imread(image_path, 0)"
   ]
  },
  {
   "cell_type": "code",
   "execution_count": 22,
   "id": "246d29d3",
   "metadata": {},
   "outputs": [],
   "source": [
    "#Change the current directory to specified directory\n",
    "os.chdir(directory)"
   ]
  },
  {
   "cell_type": "code",
   "execution_count": 23,
   "id": "73db4c00",
   "metadata": {},
   "outputs": [
    {
     "name": "stdout",
     "output_type": "stream",
     "text": [
      "Before saving image: \n",
      "['thor.jpg', 'tokyocity.jpg', 'VR_goggles.jpg']\n"
     ]
    }
   ],
   "source": [
    "# List files and directories\n",
    "print(\"Before saving image: \")\n",
    "print(os.listdir(directory))"
   ]
  },
  {
   "cell_type": "code",
   "execution_count": 24,
   "id": "4b1110bb",
   "metadata": {},
   "outputs": [],
   "source": [
    "# Filename\n",
    "filename = 'ThorgrayImage.jpg'"
   ]
  },
  {
   "cell_type": "code",
   "execution_count": 25,
   "id": "42516fb6",
   "metadata": {},
   "outputs": [
    {
     "data": {
      "text/plain": [
       "True"
      ]
     },
     "execution_count": 25,
     "metadata": {},
     "output_type": "execute_result"
    }
   ],
   "source": [
    "# Using cv2.imwrite() method save the image\n",
    "cv2.imwrite(filename, img)"
   ]
  },
  {
   "cell_type": "code",
   "execution_count": 26,
   "id": "d40ab511",
   "metadata": {},
   "outputs": [
    {
     "name": "stdout",
     "output_type": "stream",
     "text": [
      "After saving image: \n",
      "['thor.jpg', 'ThorgrayImage.jpg', 'tokyocity.jpg', 'VR_goggles.jpg']\n"
     ]
    }
   ],
   "source": [
    "#List files and directories\n",
    "print(\"After saving image: \")\n",
    "print(os.listdir(directory))"
   ]
  },
  {
   "cell_type": "code",
   "execution_count": 27,
   "id": "3bef92fc",
   "metadata": {},
   "outputs": [
    {
     "name": "stdout",
     "output_type": "stream",
     "text": [
      "Successfully saved\n"
     ]
    }
   ],
   "source": [
    "print(\"Successfully saved\")"
   ]
  },
  {
   "cell_type": "code",
   "execution_count": null,
   "id": "b7ebe04d",
   "metadata": {},
   "outputs": [],
   "source": []
  }
 ],
 "metadata": {
  "kernelspec": {
   "display_name": "Python 3 (ipykernel)",
   "language": "python",
   "name": "python3"
  },
  "language_info": {
   "codemirror_mode": {
    "name": "ipython",
    "version": 3
   },
   "file_extension": ".py",
   "mimetype": "text/x-python",
   "name": "python",
   "nbconvert_exporter": "python",
   "pygments_lexer": "ipython3",
   "version": "3.11.3"
  }
 },
 "nbformat": 4,
 "nbformat_minor": 5
}
