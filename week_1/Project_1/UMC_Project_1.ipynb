{
 "cells": [
  {
   "cell_type": "markdown",
   "id": "7bb276a4",
   "metadata": {},
   "source": [
    "# Project 1"
   ]
  },
  {
   "cell_type": "code",
   "execution_count": 12,
   "id": "cf4ea2c7",
   "metadata": {},
   "outputs": [],
   "source": [
    "#Importing OpenCV,os and time libraries\n",
    "import cv2\n",
    "import os\n",
    "from time import sleep"
   ]
  },
  {
   "cell_type": "code",
   "execution_count": 13,
   "id": "79f7c92a",
   "metadata": {},
   "outputs": [],
   "source": [
    "# directory where the images of UMC members are located\n",
    "directory = r'C:\\Users\\NEW\\Documents\\SCHOOL\\Year_4_semester_2\\CSC 418\\Practical\\week_1\\Project_1\\images'"
   ]
  },
  {
   "cell_type": "code",
   "execution_count": 14,
   "id": "fb4ae21d",
   "metadata": {},
   "outputs": [],
   "source": [
    "# Changing the current working directory to the directory where the images of UMC members is located\n",
    "os.chdir(directory)"
   ]
  },
  {
   "cell_type": "code",
   "execution_count": 15,
   "id": "16db6202",
   "metadata": {},
   "outputs": [],
   "source": [
    "# function for the users input i.e username and password\n",
    "def inputinfo (username, password):\n",
    "    return username, password"
   ]
  },
  {
   "cell_type": "code",
   "execution_count": 16,
   "id": "96e8cd7c",
   "metadata": {},
   "outputs": [
    {
     "name": "stdout",
     "output_type": "stream",
     "text": [
      "---------------------------------------------------\n",
      "When making use of the UMC (University Management Council) application please take note of the following:\n",
      "1. The username must be the firstname of the user\n",
      "2. The password must be a number and this number must be the total number of alphabets in the surname\n",
      "---------------------------------------------------\n",
      "\n",
      "\n",
      "Username: Eze\n",
      "Password: 8\n",
      "\n",
      "\n",
      "The UMC member was not found.\n",
      "Please try again.\n"
     ]
    }
   ],
   "source": [
    "def process_output (directory, found = False):\n",
    "    username, password = inputinfo(str(input(\"Username: \")), int(input((\"Password: \")))) #Getting the username and password from user input\n",
    "    print('\\n')\n",
    "    members = os.listdir(directory)\n",
    "    firstnames = [string.split()[0] for string in members] # Creates a list of all the firstnames of the UMC members \n",
    "    surnames = [string.split()[1].split('.')[0] for string in members] # Creates a list of all the surnames of the UMC members\n",
    "    surname_lengths = [len(surname) for surname in surnames] # Creates a list of the lengths of each of the surnames i.e a list of all the passowrds\n",
    "    for i in range(len(firstnames)):\n",
    "        if username == firstnames[i] and password == surname_lengths[i]: #Checks if the username inputed is the same as the current firstname in the firstnames list and also if the inputed password is the same as the current passowrd in the surname_lengths list\n",
    "            #Print the details of the UMC member\n",
    "            found = True\n",
    "            print(\"First_name: \", firstnames[i])\n",
    "            print(\"Surname: \", surnames[i])\n",
    "            print(\"Password: \", surname_lengths[i])\n",
    "            #Read and display image\n",
    "            image = cv2.imread(members[i])\n",
    "            cv2.imshow(members[i], image)\n",
    "            cv2.waitKey(0)\n",
    "            cv2.destroyAllWindows()\n",
    "            \n",
    "    if not found:\n",
    "        print(\"The UMC member was not found.\\nPlease try again.\")\n",
    "        \n",
    "#Introduction to the application            \n",
    "print(\"---------------------------------------------------\")\n",
    "sleep(3)\n",
    "print(\"When making use of the UMC (University Management Council) application please take note of the following:\")\n",
    "print(\"1. The username must be the firstname of the user\")\n",
    "print(\"2. The password must be a number and this number must be the total number of alphabets in the surname\")\n",
    "sleep(3)\n",
    "print(\"---------------------------------------------------\")\n",
    "print('\\n')\n",
    "\n",
    "#Running the application\n",
    "process_output(directory)    "
   ]
  },
  {
   "cell_type": "code",
   "execution_count": null,
   "id": "d335a34e",
   "metadata": {},
   "outputs": [],
   "source": []
  },
  {
   "cell_type": "code",
   "execution_count": null,
   "id": "5b7ed7c8",
   "metadata": {},
   "outputs": [],
   "source": []
  }
 ],
 "metadata": {
  "kernelspec": {
   "display_name": "Python 3 (ipykernel)",
   "language": "python",
   "name": "python3"
  },
  "language_info": {
   "codemirror_mode": {
    "name": "ipython",
    "version": 3
   },
   "file_extension": ".py",
   "mimetype": "text/x-python",
   "name": "python",
   "nbconvert_exporter": "python",
   "pygments_lexer": "ipython3",
   "version": "3.11.3"
  }
 },
 "nbformat": 4,
 "nbformat_minor": 5
}
