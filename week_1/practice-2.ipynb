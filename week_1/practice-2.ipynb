{
 "cells": [
  {
   "cell_type": "markdown",
   "id": "a53dae70",
   "metadata": {},
   "source": [
    "# Reading image in grayscale mode"
   ]
  },
  {
   "cell_type": "code",
   "execution_count": 1,
   "id": "80ab6a0f",
   "metadata": {},
   "outputs": [],
   "source": [
    "#Importing the OpenCV library\n",
    "import cv2"
   ]
  },
  {
   "cell_type": "code",
   "execution_count": 2,
   "id": "a4732235",
   "metadata": {},
   "outputs": [],
   "source": [
    "#path\n",
    "path = \"images/VR_goggles.jpg\""
   ]
  },
  {
   "cell_type": "code",
   "execution_count": 3,
   "id": "b6ee644e",
   "metadata": {},
   "outputs": [],
   "source": [
    "#Reading an image in grayscale mode\n",
    "img = cv2.imread(path, 0)"
   ]
  },
  {
   "cell_type": "code",
   "execution_count": 4,
   "id": "94747721",
   "metadata": {},
   "outputs": [],
   "source": [
    "#Window name in which image is displayed\n",
    "window_name = \"VR Headset\""
   ]
  },
  {
   "cell_type": "code",
   "execution_count": 5,
   "id": "63af4173",
   "metadata": {},
   "outputs": [],
   "source": [
    "#Display image\n",
    "cv2.imshow(window_name, img)"
   ]
  },
  {
   "cell_type": "code",
   "execution_count": null,
   "id": "f8c8453d",
   "metadata": {},
   "outputs": [],
   "source": [
    "# Hold the window\n",
    "cv2.waitKey(0)"
   ]
  },
  {
   "cell_type": "code",
   "execution_count": null,
   "id": "6705cb3f",
   "metadata": {},
   "outputs": [],
   "source": [
    "# Remove/delete created GUI window from the screen and memory\n",
    "cv2.destroyAllWindows()"
   ]
  },
  {
   "cell_type": "code",
   "execution_count": null,
   "id": "a63d6028",
   "metadata": {},
   "outputs": [],
   "source": []
  }
 ],
 "metadata": {
  "kernelspec": {
   "display_name": "Python 3 (ipykernel)",
   "language": "python",
   "name": "python3"
  },
  "language_info": {
   "codemirror_mode": {
    "name": "ipython",
    "version": 3
   },
   "file_extension": ".py",
   "mimetype": "text/x-python",
   "name": "python",
   "nbconvert_exporter": "python",
   "pygments_lexer": "ipython3",
   "version": "3.11.3"
  }
 },
 "nbformat": 4,
 "nbformat_minor": 5
}
